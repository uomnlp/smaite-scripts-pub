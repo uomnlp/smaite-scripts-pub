{
 "cells": [
  {
   "cell_type": "code",
   "execution_count": null,
   "metadata": {
    "collapsed": true,
    "pycharm": {
     "name": "#%%\n"
    }
   },
   "outputs": [],
   "source": [
    "# @formatter:off\n",
    "import random\n",
    "\n",
    "import numpy as np\n",
    "import sklearn.ensemble\n",
    "%load_ext autoreload\n",
    "%autoreload 2\n",
    "# @formatter:on\n",
    "import os\n",
    "\n",
    "os.chdir('../')\n",
    "print(os.getcwd())"
   ]
  },
  {
   "cell_type": "code",
   "execution_count": null,
   "metadata": {
    "collapsed": false,
    "pycharm": {
     "name": "#%%\n"
    }
   },
   "outputs": [],
   "source": [
    "#@formatter:off\n",
    "files = !ls data/*csv.jsonl\n",
    "#@formatter:on\n",
    "files = [f for f in files if 'sample' not in f and 'augmented' not in f and 'processed' not in f]\n",
    "assert len(files) == 8"
   ]
  },
  {
   "cell_type": "code",
   "execution_count": null,
   "metadata": {
    "collapsed": false,
    "pycharm": {
     "name": "#%%\n"
    }
   },
   "outputs": [],
   "source": [
    "#@formatter:off\n",
    "snippet_files = !ls data/*-google-results-sample.jsonl | grep -v snippets\n",
    "#@formatter:on"
   ]
  },
  {
   "cell_type": "code",
   "execution_count": null,
   "metadata": {
    "collapsed": false,
    "pycharm": {
     "name": "#%%\n"
    }
   },
   "outputs": [],
   "source": [
    "print(snippet_files)\n",
    "files"
   ]
  },
  {
   "cell_type": "code",
   "execution_count": null,
   "metadata": {
    "collapsed": false,
    "pycharm": {
     "name": "#%%\n"
    }
   },
   "outputs": [],
   "source": [
    "import json\n",
    "from tqdm import tqdm\n",
    "\n",
    "from unidecode import unidecode\n",
    "\n",
    "\n",
    "def load_json(d):\n",
    "    try:\n",
    "        return json.loads(d, strict=False)\n",
    "    except Exception as e:\n",
    "        print(\"FEK\")\n",
    "        print(d)\n",
    "        print(unidecode(d))\n",
    "        return json.loads(unidecode(d), strict=False)\n",
    "\n",
    "\n",
    "def load_jsonl(path: str):\n",
    "    print(\"loading\", path)\n",
    "    with open(path) as f:\n",
    "        return [load_json(d) for d in tqdm(f.readlines())]\n",
    "\n",
    "\n",
    "snippet_datasets = [load_jsonl(p) for p in snippet_files]\n",
    "datasets = [load_jsonl(p) for p in files]"
   ]
  },
  {
   "cell_type": "code",
   "execution_count": null,
   "metadata": {
    "collapsed": false,
    "pycharm": {
     "name": "#%%\n"
    }
   },
   "outputs": [],
   "source": [
    "snippet_map = {\n",
    "    k: files.index(k.replace('-google-results-sample.jsonl', '.csv.jsonl')) for k in snippet_files\n",
    "}\n",
    "snippet_map"
   ]
  },
  {
   "cell_type": "code",
   "execution_count": null,
   "metadata": {
    "collapsed": false,
    "pycharm": {
     "name": "#%%\n"
    }
   },
   "outputs": [],
   "source": [
    "def process_snippet(d, claim_ds):\n",
    "    if d['results'] and d['results'].get('items', None):\n",
    "        snippets_formatted = '\\n'.join(\n",
    "            t.get('snippet', '').split('...', 1)[-1].replace('\\xa0...', '').replace('...', '...\\n...').strip() for t in d['results']['items']).strip()\n",
    "    else:\n",
    "        snippets_formatted = ''\n",
    "    # print(snippets_formatted)\n",
    "    claim = claim_ds[d['id']]['text']\n",
    "    explanataion = claim_ds[d['id']]['cR_textualRating']\n",
    "    text_article = claim_ds[d['id']]['text_article']\n",
    "    return {\n",
    "        'input_snippet': '\\n'.join((claim, snippets_formatted)),\n",
    "        'input_article': f\"{claim}\\n{text_article}\",\n",
    "        'target': explanataion\n",
    "    }\n",
    "\n",
    "\n",
    "ff_map = {d['id']: d for d in datasets[3]}\n",
    "processed_fullfact_snippets = [process_snippet(s, ff_map) for s in snippet_datasets[0]]"
   ]
  },
  {
   "cell_type": "code",
   "execution_count": null,
   "metadata": {
    "collapsed": false,
    "pycharm": {
     "name": "#%%\n"
    }
   },
   "outputs": [],
   "source": []
  },
  {
   "cell_type": "code",
   "execution_count": null,
   "metadata": {
    "collapsed": false,
    "pycharm": {
     "name": "#%%\n"
    }
   },
   "outputs": [],
   "source": [
    "from handystuff.loaders import write_jsonl\n",
    "\n",
    "\n",
    "def write_out_ds(ds, f):\n",
    "    f = f.replace('data/', 'data/snippets-')\n",
    "    write_jsonl(ds, f)\n",
    "\n",
    "write_out_ds(processed_fullfact_snippets, snippet_files[0])\n"
   ]
  }
 ],
 "metadata": {
  "kernelspec": {
   "display_name": "Python 3.10.8 64-bit",
   "language": "python",
   "name": "python3"
  },
  "language_info": {
   "codemirror_mode": {
    "name": "ipython",
    "version": 2
   },
   "file_extension": ".py",
   "mimetype": "text/x-python",
   "name": "python",
   "nbconvert_exporter": "python",
   "pygments_lexer": "ipython2",
   "version": "3.10.8"
  },
  "vscode": {
   "interpreter": {
    "hash": "e7370f93d1d0cde622a1f8e1c04877d8463912d04d973331ad4851f04de6915a"
   }
  }
 },
 "nbformat": 4,
 "nbformat_minor": 0
}
