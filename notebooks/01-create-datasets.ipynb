{
 "cells": [
  {
   "cell_type": "code",
   "execution_count": null,
   "metadata": {
    "collapsed": true,
    "pycharm": {
     "name": "#%%\n"
    }
   },
   "outputs": [],
   "source": [
    "# @formatter:off\n",
    "import random\n",
    "\n",
    "import numpy as np\n",
    "import sklearn.ensemble\n",
    "%load_ext autoreload\n",
    "%autoreload 2\n",
    "# @formatter:on\n",
    "import os\n",
    "\n",
    "os.chdir('../')\n",
    "print(os.getcwd())\n",
    "\n",
    "DATA=\"/data/smaite/smaite\""
   ]
  },
  {
   "cell_type": "code",
   "execution_count": null,
   "metadata": {
    "collapsed": false,
    "pycharm": {
     "name": "#%%\n"
    }
   },
   "outputs": [],
   "source": [
    "#@formatter:off\n",
    "files = !ls $DATA/*csv.jsonl\n",
    "#@formatter:on\n",
    "files = [f for f in files if 'processed-augmented' in f]\n",
    "assert len(files) == 8, len(files)"
   ]
  },
  {
   "cell_type": "code",
   "execution_count": null,
   "metadata": {
    "collapsed": false,
    "pycharm": {
     "name": "#%%\n"
    }
   },
   "outputs": [],
   "source": [
    "import json\n",
    "from tqdm.notebook import tqdm\n",
    "from unidecode import unidecode\n",
    "\n",
    "\n",
    "\n",
    "\n",
    "def load_json(d):\n",
    "    try:\n",
    "        return json.loads(d, strict=False)\n",
    "    except Exception as e:\n",
    "        print(\"FEK\")\n",
    "        print(d)\n",
    "        print(unidecode(d))\n",
    "        return json.loads(unidecode(d), strict=False)\n",
    "\n",
    "\n",
    "def load_jsonl(path: str):\n",
    "    print(\"loading\", path)\n",
    "    with open(path) as f:\n",
    "        return [load_json(d) for d in tqdm(f.readlines())]\n",
    "\n",
    "\n",
    "datasets = [load_jsonl(p) for p in files]"
   ]
  },
  {
   "cell_type": "code",
   "execution_count": null,
   "metadata": {
    "collapsed": false,
    "pycharm": {
     "name": "#%%\n"
    }
   },
   "outputs": [],
   "source": [
    "datasets[1][0].keys()"
   ]
  },
  {
   "cell_type": "code",
   "execution_count": null,
   "metadata": {
    "collapsed": false,
    "pycharm": {
     "name": "#%%\n"
    }
   },
   "outputs": [],
   "source": [
    "from handystuff.loaders import write_jsonl\n",
    "\n",
    "\n",
    "def create_classification_ds(ds, f, skip_unknown=True, claim_only=False):\n",
    "    f = f.replace('augmented', 'classification' if not claim_only else 'classification-claim-only')\n",
    "\n",
    "    cds = [\n",
    "        {\"sentence\": f\"{d['text']}\\n{d['text_article']}\" if not claim_only else f\"{d['text']}\",\n",
    "         \"label\": d['label']} for d in ds if d['label']\n",
    "    ]\n",
    "    if skip_unknown:\n",
    "        cds = [d for d in cds if d['label'] != 'UNKNOWN']\n",
    "    write_jsonl(cds, f)\n",
    "\n",
    "for ds, f in zip(datasets, files):\n",
    "    if all(n not in f for n in ['fullfact', 'bbc']):\n",
    "        create_classification_ds(ds, f)\n",
    "\n",
    "#@formatter:off\n",
    "!cd data && cat processed-classification-factcheck.csv.jsonl processed-classification-snopes.csv.jsonl processed-classification-washingtonpost.csv.jsonl > combined-classification-factcheck-ds.jsonl\n",
    "#@formatter:on"
   ]
  },
  {
   "cell_type": "code",
   "execution_count": null,
   "metadata": {
    "collapsed": false,
    "pycharm": {
     "name": "#%%\n"
    }
   },
   "outputs": [],
   "source": [
    "def create_explanation_ds(ds, f):\n",
    "    f = f.replace('augmented', 'explanation')\n",
    "    eds = [\n",
    "        {\"input\": f\"{d['text']}\\n{d['text_article']}\",\n",
    "         \"target\": d['explanation']} for d in ds\n",
    "    ]\n",
    "    write_jsonl(eds, f)\n",
    "\n",
    "for ds, f in zip(datasets, files):\n",
    "    if any(n in f for n in ['fullfact', 'bbc', 'factcheck']):\n",
    "        create_explanation_ds(ds, f)\n",
    "\n",
    "#@formatter:off\n",
    "!cd data/ && cat processed-explanation-bbc.csv.jsonl processed-explanation-factcheck.csv.jsonl processed-explanation-fullfact.csv.jsonl > combined-explanation-factcheck-ds.jsonl\n",
    "#@formatter:on\n"
   ]
  },
  {
   "cell_type": "code",
   "execution_count": null,
   "metadata": {
    "collapsed": false,
    "pycharm": {
     "name": "#%%\n"
    }
   },
   "outputs": [],
   "source": [
    "for ds, f in zip(datasets, files):\n",
    "    if all(n not in f for n in ['fullfact', 'bbc']):\n",
    "        create_classification_ds(ds, f, claim_only=True)\n",
    "\n",
    "#@formatter:off\n",
    "!cd data && cat processed-classification-claim-only-factcheck.csv.jsonl processed-classification-claim-only-snopes.csv.jsonl processed-classification-claim-only-washingtonpost.csv.jsonl > combined-classification-claim-only-factcheck-ds.jsonl\n",
    "#@formatter:on\n"
   ]
  }
 ],
 "metadata": {
  "kernelspec": {
   "display_name": "Python 3.8.13 ('smaite')",
   "language": "python",
   "name": "python3"
  },
  "language_info": {
   "codemirror_mode": {
    "name": "ipython",
    "version": 3
   },
   "file_extension": ".py",
   "mimetype": "text/x-python",
   "name": "python",
   "nbconvert_exporter": "python",
   "pygments_lexer": "ipython3",
   "version": "3.8.13"
  },
  "vscode": {
   "interpreter": {
    "hash": "8e59854198b62e77d92da15d0c036c042ba0ed0a9b0aaffcd75c388e7e8858f6"
   }
  }
 },
 "nbformat": 4,
 "nbformat_minor": 0
}
